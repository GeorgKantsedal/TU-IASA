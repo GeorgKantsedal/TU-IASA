{
 "cells": [
  {
   "cell_type": "code",
   "execution_count": 130,
   "metadata": {
    "ExecuteTime": {
     "end_time": "2018-12-12T16:30:30.489118Z",
     "start_time": "2018-12-12T16:30:30.474633Z"
    }
   },
   "outputs": [],
   "source": [
    "# ---------Курсач-----#\n",
    "\n",
    "import math as m\n",
    "import numpy as np\n",
    "import matplotlib.pyplot as plt\n",
    "K = 1.79\n",
    "T1 = 67\n",
    "T2 = 28\n",
    "T3 = 11\n",
    "t = 36\n",
    "T0 = 0.03*T1/K\n"
   ]
  },
  {
   "cell_type": "code",
   "execution_count": 103,
   "metadata": {
    "ExecuteTime": {
     "end_time": "2018-12-11T22:57:34.413288Z",
     "start_time": "2018-12-11T22:57:34.407380Z"
    }
   },
   "outputs": [
    {
     "name": "stdout",
     "output_type": "stream",
     "text": [
      "T01 = [0.37430168 0.74860335 1.12290503 1.4972067  1.87150838]\n",
      "T02 = [0.53072626 1.06145251 1.59217877 2.12290503 2.65363128]\n"
     ]
    }
   ],
   "source": [
    "#-------------------------------Пункт №3----------------------------#\n",
    "#Обеспечение точности эпсилон\n",
    "e = np.array([0.01, 0.02, 0.03, 0.04, 0.05])\n",
    "T01 = np.array([e[0]*T1/K, e[1]*T1/K, e[2]*T1/K, e[3]*T1/K, e[4]*T1/K])\n",
    "print(\"T01 = \" + str(T01))\n",
    "T02 = np.array([e[0]*(T1+T2)/K, e[1]*(T1+T2)/K, e[2]*(T1+T2)/K, e[3]*(T1+T2)/K, e[4]*(T1+T2)/K])\n",
    "print(\"T02 = \" + str(T02))\n",
    "#Для Джури и для объекта с динамикой в числителе берешь любой сервис для решения уравнений и вставляешь туда функции с протокола  \n"
   ]
  },
  {
   "cell_type": "code",
   "execution_count": 104,
   "metadata": {
    "ExecuteTime": {
     "end_time": "2018-12-11T22:57:34.588896Z",
     "start_time": "2018-12-11T22:57:34.582709Z"
    }
   },
   "outputs": [
    {
     "name": "stdout",
     "output_type": "stream",
     "text": [
      "Kr_opt = 0.35863598284065434  0.27093878443296815  0.21770339370174208  0.15628705064657056\n",
      "T_Iopt = 66.44011578180304\n",
      "Kn_opt = 0.36138079827400216  0.2726902726902727  0.2189542483660131  0.15705578996718234\n"
     ]
    }
   ],
   "source": [
    "#----------------------------------Пункт №4 ------------------------#\n",
    "def Kr_opt(l):\n",
    "    return (1 - m.exp(-T0 * l))/(K * (m.exp(T0/T1)-1)*(1 + m.floor(t/T0) * (1 - m.exp(-T0 * l))));\n",
    "\n",
    "print(\"Kr_opt = \" + str(Kr_opt(1/T1)) + \"  \" + str(Kr_opt(1/(T1*1.5))) + \"  \" + str(Kr_opt(1/(T1*2))) + \"  \" + str(Kr_opt(1/(T1*3))));\n",
    "T_opt = T0/(m.exp(T0/T1) - 1);\n",
    "print (\"T_Iopt = \" + str(T_opt));\n",
    "print(\"Kn_opt = \" + str(1/(1.8*(1 + t/T1))) + \"  \" + str(1/(1.8* 1.5*(1 + t/(1.5*T1)))) + \"  \" + str(1/(1.8*2*(1 + t/(2*T1)))) + \"  \" + str(1/(1.8*3*(1 + t/(3*T1)))));"
   ]
  },
  {
   "cell_type": "code",
   "execution_count": 105,
   "metadata": {
    "ExecuteTime": {
     "end_time": "2018-12-11T22:57:34.745215Z",
     "start_time": "2018-12-11T22:57:34.736441Z"
    },
    "scrolled": true
   },
   "outputs": [
    {
     "name": "stdout",
     "output_type": "stream",
     "text": [
      "w_n = 0.018434273785533292  0.016072537136370225\n",
      "w_v = 0.03686854757106659  0.03214507427274045\n",
      "A_n(w) = 0.7183353500653512  0.8041154341437865\n",
      "Ф_н(fi) = 1.2843808796961893  1.3671806700710718\n",
      "Ф_н(A) = 0.4669193320965923  0.4829516480566392\n"
     ]
    }
   ],
   "source": [
    "#-----------------------------Пункт №5-------------------------------------#\n",
    "#Резонансный метод\n",
    "w1 =  0.02607     # Решается уравнение fi1 = 2.62 любым сервисом \n",
    "w2 =  0.02273    # Решается уравнение fi2 = 2.62 любым сервисом\n",
    "print(\"w_n = \" + str(w1/pow(2, 0.5)) + \"  \" + str(w2/pow(2, 0.5)))\n",
    "print(\"w_v = \" + str(w1*pow(2, 0.5)) + \"  \" + str(w2*pow(2, 0.5)))\n",
    "print(\"A_n(w) = \" + str(K/(m.sqrt((1 + w1*T1*w1*T1)*(1 + w1*T2*w1*T2)))) + \"  \" + str(K/(m.sqrt((1 + w2*T1*w2*T1)*(1 + w2*T2*w2*T2)*(1 + w2*T3*w2*T3)))))\n",
    "anw = [K/(m.sqrt((1 + w1*T1*w1*T1)*(1 + w1*T2*w1*T2))), K/(m.sqrt((1 + w2*T1*w2*T1)*(1 + w2*T2*w2*T2)*(1 + w2*T3*w2*T3)))]\n",
    "\n",
    "def fi2(w):\n",
    "    return (m.atan(w*T1) + m.atan(w*T2)+ m.atan(w*T3) + w*t);\n",
    "\n",
    "def fi1(w):\n",
    "    return (m.atan(w*T1) + m.atan(w*T2) + w*t);\n",
    "\n",
    "print(\"Ф_н(fi) = \" + str(fi1(w1*m.sqrt(2)) - fi1(w1/m.sqrt(2))) + \"  \" + str(fi2(w2*m.sqrt(2)) - fi2(w2/m.sqrt(2))))\n",
    "fnfi = [fi1(w1*m.sqrt(2)) - fi1(w1/m.sqrt(2)), fi2(w2*m.sqrt(2)) - fi2(w2/m.sqrt(2))]\n",
    "\n",
    "def F_n1(w):\n",
    "    return m.sqrt(((1 + w*T1*w*T1/2)*(1 + w*T2*w*T2/2))/((1 + w*T1*w*T1*2)*(1 + w*T2*w*T2*2)))\n",
    "def F_n2(w):\n",
    "    return (pow((1 + pow(w*T1,2)/2)*(1 + pow(w*T2,2)/2)*(1 + pow(w*T3,2)/2)/((1 + pow(w*T1,2)*2)*(1 + pow(w2*T2,2)*2)*(1 + pow(w*T3,2)*2)), 0.5))\n",
    "print(\"Ф_н(A) = \" + str(F_n1(w1)) + \"  \" + str(F_n2(w2)))\n",
    "fna = [F_n1(w1), F_n2(w2)]"
   ]
  },
  {
   "cell_type": "code",
   "execution_count": 106,
   "metadata": {
    "ExecuteTime": {
     "end_time": "2018-12-11T22:57:34.910519Z",
     "start_time": "2018-12-11T22:57:34.906603Z"
    }
   },
   "outputs": [
    {
     "name": "stdout",
     "output_type": "stream",
     "text": [
      "T_непIопт1 = 212.36048664591553\n",
      "T_непIопт2 = 243.93788996792756\n"
     ]
    }
   ],
   "source": [
    "T_nIopt1 = (4.061*pow(fna[0],-0.3387)*pow(fnfi[0], 0.2075))/w1\n",
    "print(\"T_непIопт1 = \" + str(T_nIopt1))\n",
    "T_nIopt2 = (4.061*pow(fna[1],-0.3387)*pow(fnfi[1], 0.2075))/w2\n",
    "print(\"T_непIопт2 = \" + str(T_nIopt2))"
   ]
  },
  {
   "cell_type": "code",
   "execution_count": 107,
   "metadata": {
    "ExecuteTime": {
     "end_time": "2018-12-11T22:57:35.059166Z",
     "start_time": "2018-12-11T22:57:35.054099Z"
    }
   },
   "outputs": [
    {
     "name": "stdout",
     "output_type": "stream",
     "text": [
      "K_непРопт1 = 0.9905825925558335\n",
      "K_непРопт2 = 0.8569913573897618\n",
      "Т_0опт1 = 17.993175501075807\n",
      "Т_0опт2 = 22.312903594028835\n"
     ]
    }
   ],
   "source": [
    "K_nPopt1 = (1 + 1.189*pow(fna[0], 0.7139)*pow(1.852 - fnfi[0], 0.8643))/(2*anw[0])\n",
    "print(\"K_непРопт1 = \" + str(K_nPopt1))\n",
    "K_nPopt2 = (1 + 1.189*pow(fna[1] ,0.7139)*pow(1.852 - fnfi[1], 0.8643))/(2*anw[1])\n",
    "print(\"K_непРопт2 = \" + str(K_nPopt2))\n",
    "\n",
    "T_0opt1 = (0.5742*pow(fna[0], 0.5742)*pow(fnfi[0], 0.9394))/w1\n",
    "print(\"Т_0опт1 = \" + str(T_0opt1))\n",
    "T_0opt2 = (0.5742*pow(fna[1], 0.5742)*pow(fnfi[1], 0.9394))/w2\n",
    "print(\"Т_0опт2 = \" + str(T_0opt2))\n",
    "\n",
    "I1 = T_0opt1/K_nPopt1\n",
    "I2 = T_0opt2/K_nPopt2"
   ]
  },
  {
   "cell_type": "code",
   "execution_count": 108,
   "metadata": {
    "ExecuteTime": {
     "end_time": "2018-12-11T22:57:35.207153Z",
     "start_time": "2018-12-11T22:57:35.201155Z"
    }
   },
   "outputs": [
    {
     "name": "stdout",
     "output_type": "stream",
     "text": [
      "w_n = 0.01641194839133977  0.014283556979968259\n",
      "w_v = 0.03282389678267954  0.02856711395993652\n"
     ]
    }
   ],
   "source": [
    "w3 = 0.02321 # Решается уравнение fi3 = 2.62 любым сервисом\n",
    "w4 = 0.0202 # Решается уравнение fi4 = 2.62 любым сервисом\n",
    "print(\"w_n = \" + str(w3/m.sqrt(2)) + \"  \" + str(w4/m.sqrt(2)))\n",
    "print(\"w_v = \" + str(w3*m.sqrt(2)) + \"  \" + str(w4*m.sqrt(2)))\n",
    "#print(\"A(w) = \" + str(K/m.sqrt((1 + w3*T1*w3*T1)*(1 + w3*T2*w3*T2))) + \"  \" + str(K/m.sqrt((1 + w4*T1*w4*T1)*(1 + w4*T2*w4*T2)*(1 + w4*T3*w4*T3))))\n",
    "#aw = [K*m.sin(w3 * T_0opt1 / 2)/(w3 * T_0opt1 / 2)/m.sqrt((1 + w3*T1*w3*T1)*(1 + w3*T2*w3*T2)), K*m.sin(w4 * T_0opt2 / 2)/(w4 * T_0opt2 / 2)/m.sqrt((1 + w4*T1*w4*T1)*(1 + w4*T2*w4*T2)*(1 + w4*T3*w4*T3))]\n",
    "#print(aw)"
   ]
  },
  {
   "cell_type": "code",
   "execution_count": 109,
   "metadata": {
    "ExecuteTime": {
     "end_time": "2018-12-11T22:57:35.543939Z",
     "start_time": "2018-12-11T22:57:35.536001Z"
    }
   },
   "outputs": [
    {
     "name": "stdout",
     "output_type": "stream",
     "text": [
      "Фн(fi) = [1.3622098572040042, 1.4423061899405634]\n",
      "A(w) = 0.8059138962316932  0.8962140161445664\n",
      "Ф(А) = 0.9891193013276307  0.9873300263029487\n"
     ]
    }
   ],
   "source": [
    "def fi4(w):\n",
    "    return (m.atan(w*T1) + m.atan(w*T2)+ m.atan(w*T3) + w*t + T_0opt2*w/2);\n",
    "\n",
    "def fi3(w):\n",
    "    return (m.atan(w*T1) + m.atan(w*T2) + w*t + T_0opt1*w/2);\n",
    "\n",
    "ffi = [fi3(w3*m.sqrt(2)) - fi3(w3/m.sqrt(2)), fi4(w4*m.sqrt(2)) - fi4(w4/m.sqrt(2))]\n",
    "print(\"Фн(fi) = \" + str(ffi))\n",
    "\n",
    "def A1(w):\n",
    "    return (K*m.sin((w*T_0opt1)/2)/((pow((1 + pow(w3*T1,2))*(1 + pow(w3*T2,2)), 0.5))*((w*T_0opt1)/2)))\n",
    "\n",
    "def A2(w):\n",
    "    return (K*m.sin((w*T_0opt2)/2)/((pow((1 + pow(w4*T1,2))*(1 + pow(w4*T2,2))*(1 + pow(w4*T3,2)), 0.5))*((w*T_0opt2)/2)))\n",
    "print(\"A(w) = \" + str(A1(w3)) + \"  \" + str(A2(w4)))\n",
    "print(\"Ф(А) = \" + str(A1(w3*m.sqrt(2))/A1(w3/m.sqrt(2))) + \"  \" + str(A2(w4*m.sqrt(2))/A2(w4/m.sqrt(2))))\n",
    "fia = [A1(w3*m.sqrt(2))/A1(w3/m.sqrt(2)), A2(w4*m.sqrt(2))/A2(w4/m.sqrt(2))]"
   ]
  },
  {
   "cell_type": "code",
   "execution_count": 110,
   "metadata": {
    "ExecuteTime": {
     "end_time": "2018-12-11T22:57:35.797586Z",
     "start_time": "2018-12-11T22:57:35.791711Z"
    }
   },
   "outputs": [
    {
     "name": "stdout",
     "output_type": "stream",
     "text": [
      "K_Ропт1 = 1.0153680419117692\n",
      "K_Ропт2 = 0.8618757680884328\n",
      "T_Iопт1 = 230.82301417293212\n",
      "T_Iопт2 = 265.380623125864\n"
     ]
    }
   ],
   "source": [
    "K_Popt1 = (1 + 1.189 * pow(fia[0], 0.7139) * pow(1.852 - ffi[0], 0.8643) )/(2*A1(w3))\n",
    "print(\"K_Ропт1 = \" + str(K_Popt1))\n",
    "K_Popt2 = (1 + 1.189 * pow(fia[1], 0.7139) * pow(1.852 - ffi[1], 0.8643) )/(2*A2(w4))\n",
    "print(\"K_Ропт2 = \" + str(K_Popt2))\n",
    "\n",
    "T_Iopt1 = (4.061*pow(fia[0], -0.3387)*pow(ffi[0], 0.8843))/w3\n",
    "print(\"T_Iопт1 = \" + str(T_Iopt1))\n",
    "T_Iopt2 = (4.061*pow(fia[1], -0.3387)*pow(ffi[0], 0.8843))/w4\n",
    "print(\"T_Iопт2 = \" + str(T_Iopt2))\n"
   ]
  },
  {
   "cell_type": "code",
   "execution_count": 111,
   "metadata": {
    "ExecuteTime": {
     "end_time": "2018-12-11T22:57:35.989059Z",
     "start_time": "2018-12-11T22:57:35.978995Z"
    }
   },
   "outputs": [
    {
     "name": "stdout",
     "output_type": "stream",
     "text": [
      "[[ 0.00000000e+00  1.00000000e+00  0.00000000e+00]\n",
      " [ 0.00000000e+00  0.00000000e+00  1.00000000e+00]\n",
      " [-4.84590037e-05 -5.13665439e-03 -1.41548750e-01]]\n",
      "F = \n",
      "[[ 9.56939995e-01  1.74703612e+01  9.23005503e+01]\n",
      " [-4.47279271e-03  4.82823968e-01  4.40533372e+00]\n",
      " [-2.13478083e-04 -2.71014695e-02 -1.40745513e-01]]\n",
      "g = \n",
      "[888.58626751  92.30055029   4.40533372]\n"
     ]
    }
   ],
   "source": [
    "#--------------------------------Пункт 5 ------------------------------------#\n",
    "import scipy.linalg as slin\n",
    "\n",
    "A = np.array([[0, 1, 0], [0, 0, 1], [-1/(T1*T2*T3), -(T1+T2+T3)/(T1*T2*T3), -(1/T1 + 1/T2 + 1/T3)]])\n",
    "print(A)\n",
    "A1=np.linalg.inv(A)\n",
    "b = np.array([0, 0, 1])\n",
    "I = np.eye(3)\n",
    "\n",
    "F = slin.expm(A * T_0opt2)\n",
    "print(\"F = \")\n",
    "print(F)\n",
    "A_1 = np.linalg.inv(A)\n",
    "g = np.dot(A1,np.matmul(F - I, b))\n",
    "print(\"g = \")\n",
    "print(g)\n",
    "\n"
   ]
  },
  {
   "cell_type": "code",
   "execution_count": 112,
   "metadata": {
    "ExecuteTime": {
     "end_time": "2018-12-11T22:57:36.159244Z",
     "start_time": "2018-12-11T22:57:36.152627Z"
    },
    "scrolled": true
   },
   "outputs": [
    {
     "name": "stdout",
     "output_type": "stream",
     "text": [
      "Kr = [0.00056846 0.01228002 0.07247784]\n",
      "M = [[ 4.51811847e-01  6.55850818e+00  2.78977401e+01]\n",
      " [-5.69422126e-02 -6.50628210e-01 -2.28441047e+00]\n",
      " [-2.71774598e-03 -8.11990354e-02 -4.60034570e-01]]\n"
     ]
    }
   ],
   "source": [
    "# ---------Синтез линейно квадратичного регулятора-------#\n",
    "L = np.eye(3)\n",
    "Q1 = np.eye(3)\n",
    "Q2 = np.eye(3)\n",
    "q3 = 1\n",
    "for i in range(0, 10):\n",
    "    Kr = 1/(q3 + np.matmul(g, np.matmul(L, g))) * np.matmul(g, np.matmul(L,F))\n",
    "    L = np.matmul(np.matmul(np.transpose(F), L), F - np.outer(g, Kr)) + Q2\n",
    "    \n",
    "print(\"Kr = \" + str(Kr))\n",
    "R = np.outer(g, Kr)\n",
    "M = F - R\n",
    "print(\"M = \" + str(M))\n"
   ]
  },
  {
   "cell_type": "code",
   "execution_count": 113,
   "metadata": {
    "ExecuteTime": {
     "end_time": "2018-12-11T22:57:36.602941Z",
     "start_time": "2018-12-11T22:57:36.310651Z"
    }
   },
   "outputs": [
    {
     "data": {
      "image/png": "[encoded data removed]",
      "text/plain": [
       "<Figure size 864x504 with 1 Axes>"
      ]
     },
     "metadata": {},
     "output_type": "display_data"
    },
    {
     "data": {
      "image/png": "[encoded data removed]",
      "text/plain": [
       "<Figure size 864x504 with 1 Axes>"
      ]
     },
     "metadata": {},
     "output_type": "display_data"
    }
   ],
   "source": [
    "x1 = np.array([1,0,0]) #Начальное состояние. \n",
    "x1p = np.empty([0, 3])\n",
    "for i in range(0, 10):\n",
    "    x1p = np.append(x1p, [x1], axis = 0)\n",
    "    x1 = np.matmul(M, x1)\n",
    "\n",
    "x2 = np.array([1,1,1]) #Начальное состояние.\n",
    "x2p = np.empty([0, 3])\n",
    "for i in range(0, 10):\n",
    "    x2p = np.append(x2p, [x2], axis = 0)\n",
    "    x2 = np.matmul(M, x2)\n",
    "\n",
    "plt.figure(figsize=(12,7))\n",
    "plt.plot(x1p[:,0], label = \"x1\")\n",
    "plt.plot(x1p[:,1], label = \"x2\")\n",
    "plt.plot(x1p[:,2], label = \"x3\")\n",
    "plt.grid()\n",
    "plt.legend()\n",
    "plt.show()\n",
    "plt.close()\n",
    "\n",
    "plt.figure(figsize=(12,7))\n",
    "plt.plot(x2p[:,0], label = \"x1\")\n",
    "plt.plot(x2p[:,1], label = \"x2\")\n",
    "plt.plot(x2p[:,2], label = \"x3\")\n",
    "plt.grid()\n",
    "plt.legend()\n",
    "plt.show()\n",
    "plt.close()"
   ]
  },
  {
   "cell_type": "code",
   "execution_count": 145,
   "metadata": {
    "ExecuteTime": {
     "end_time": "2018-12-12T23:57:15.856183Z",
     "start_time": "2018-12-12T23:57:14.480019Z"
    }
   },
   "outputs": [
    {
     "name": "stdout",
     "output_type": "stream",
     "text": [
      "61.868732620109334*x^6+-114.7326436511921*x^5+52.86391103108277*x^4+3.779783085409083*x^2+-0.7414628280438302*x+-2.126035210991728\n",
      "61.868732620109334*x^6+-114.7326436511921*x^5+52.86391103108277*x^4+2.8600048318146287*x^2+-0.5610341183340112*x+-1.6086825192473422\n",
      "61.868732620109334*x^6+-114.7326436511921*x^5+52.86391103108277*x^4+2.2999474127634847*x^2+-0.4511702059313116*x+-1.2936639676070933\n",
      "61.868732620109334*x^6+-114.7326436511921*x^5+52.86391103108277*x^4+1.6525193104938212*x^2+-0.3241671846423371*x+-0.9295015511646465\n"
     ]
    }
   ],
   "source": [
    "#----------------------------Пункт 6-------------------------------#\n",
    "t0 = 10.5387 #Берешь с Джури\n",
    "d = m.floor(t/t0)\n",
    "lyambda = np.array([1/T1, 1/(1.5*T1), 1/(2*T1), 1/(3*T1)])\n",
    "tI = t0/(m.exp(t0/T1)-1)\n",
    "krl = list(map(lambda x: (1 - m.exp(-t0 * x))/(K * (m.exp(t0/T1)-1)*(1 + d * (1 - m.exp(-t0 * x)))), lyambda))\n",
    "kr = np.array(krl)\n",
    "a = 1 - (t-3*t0)/t0\n",
    "C1 =1 - m.exp(-a*t0/T1)\n",
    "C2 = m.exp(-a*t0/T1) - m.exp(-t0/T1)\n",
    "\n",
    "for i in range(4):\n",
    "    a0 = tI\n",
    "    a1 = -tI*(1+m.exp(-t0/T1))\n",
    "    a2 = tI*m.exp(-t0/T1)\n",
    "    a4 = K*kr[i]*C1*(tI + t0)\n",
    "    a5 = K*kr[i]*(C2*(tI + t0) - C1*tI)\n",
    "    a6 = -K*kr[i]*C2*tI\n",
    "    print(str(a0) + \"*x^6+\" + str(a1) + \"*x^5+\" + str(a2) + \"*x^4+\" + str(a4) + \"*x^2+\" + str(a5) + \"*x+\" + str(a6))\n",
    "#Для каждого полинома внизу надо найти корни и в таблицу в протоколе вписать модуль максимальног"
   ]
  },
  {
   "cell_type": "code",
   "execution_count": 115,
   "metadata": {
    "ExecuteTime": {
     "end_time": "2018-12-11T22:57:36.655787Z",
     "start_time": "2018-12-11T22:57:36.649074Z"
    }
   },
   "outputs": [
    {
     "name": "stdout",
     "output_type": "stream",
     "text": [
      "1.0*x^6+-1.825490427294711*x^5+0.8254904272947111*x^4+0.15218842769048702*x^2+-0.14845817982989276*x+0.018844369459987863\n",
      "1.0*x^6+-1.825490427294711*x^5+0.8254904272947111*x^4+0.11386420706335383*x^2+-0.111073313424186*x+0.014098964150771122\n",
      "1.0*x^6+-1.825490427294711*x^5+0.8254904272947111*x^4+0.09094017588453712*x^2+-0.08871116674315044*x+0.011260450608043284\n",
      "1.0*x^6+-1.825490427294711*x^5+0.8254904272947111*x^4+0.06482477982610287*x^2+-0.06323587783184874*x+0.008026773912730347\n"
     ]
    }
   ],
   "source": [
    "for i in range(4):\n",
    "    a0 = tI/tI\n",
    "    a1 = -tI*(1+m.exp(-t0/T1))/tI\n",
    "    a2 = tI*m.exp(-t0/T1)/tI\n",
    "    a4 = K*kr[i]*C1*(tI + t0)/tI\n",
    "    a5 = K*kr[i]*(C2*(tI + t0) - C1*tI)/tI\n",
    "    a6 = -K*kr[i]*C2*tI/tI\n",
    "    print(str(a0) + \"*x^6+\" + str(a1) + \"*x^5+\" + str(a2) + \"*x^4+\" + str(a4) + \"*x^2+\" + str(a5) + \"*x+\" + str(a6))"
   ]
  },
  {
   "cell_type": "code",
   "execution_count": 116,
   "metadata": {
    "ExecuteTime": {
     "end_time": "2018-12-11T22:57:36.814816Z",
     "start_time": "2018-12-11T22:57:36.808673Z"
    }
   },
   "outputs": [
    {
     "name": "stdout",
     "output_type": "stream",
     "text": [
      "A1 =  [-0.35863598 -0.27093878 -0.21770339 -0.15628705]\n",
      "A0 = \n",
      "0.36469729299327375\n",
      "0.27551792340227665\n",
      "0.22138280082662715\n",
      "0.15892845957409554\n"
     ]
    }
   ],
   "source": [
    "#-------------------------------------Пункт №8-------------------------------------------#\n",
    "#Прямой синтез\n",
    "T0 = 0.03*T1/K\n",
    "KR = np.array(list(map(lambda x: Kr_opt(x), lyambda)))\n",
    "print(\"A1 = \", -KR)\n",
    "print(\"A0 = \")\n",
    "for i in range(4):\n",
    "    A0 = KR[i]*(1 + T0/T_opt)\n",
    "    print(A0)"
   ]
  },
  {
   "cell_type": "code",
   "execution_count": 117,
   "metadata": {
    "ExecuteTime": {
     "end_time": "2018-12-11T22:57:36.974252Z",
     "start_time": "2018-12-11T22:57:36.969981Z"
    }
   },
   "outputs": [
    {
     "name": "stdout",
     "output_type": "stream",
     "text": [
      "A0 = 1.0945182750103395  0.9343413109636787\n",
      "A1 = -1.0153680419117692  -0.8618757680884328\n"
     ]
    }
   ],
   "source": [
    "#Резонансный метод\n",
    "print(\"A0 = \" + str(K_Popt1*(1 + T_0opt1/T_Iopt1)) + \"  \" + str(K_Popt2 * (1 + T_0opt2/T_Iopt2)))\n",
    "print(\"A1 = \" + str(-K_Popt1) + \"  \" + str(-K_Popt2))"
   ]
  },
  {
   "cell_type": "code",
   "execution_count": 140,
   "metadata": {
    "ExecuteTime": {
     "end_time": "2018-12-12T17:21:14.823685Z",
     "start_time": "2018-12-12T17:21:14.818309Z"
    }
   },
   "outputs": [
    {
     "data": {
      "text/plain": [
       "0.5586592178770949"
      ]
     },
     "execution_count": 140,
     "metadata": {},
     "output_type": "execute_result"
    }
   ],
   "source": [
    "1/1.79"
   ]
  },
  {
   "cell_type": "code",
   "execution_count": 141,
   "metadata": {
    "ExecuteTime": {
     "end_time": "2018-12-12T17:22:23.322661Z",
     "start_time": "2018-12-12T17:22:23.312604Z"
    }
   },
   "outputs": [
    {
     "data": {
      "text/plain": [
       "0.3633996854151977"
      ]
     },
     "execution_count": 141,
     "metadata": {},
     "output_type": "execute_result"
    }
   ],
   "source": [
    "1/(1.79*(1+1/67*36))"
   ]
  },
  {
   "cell_type": "code",
   "execution_count": 142,
   "metadata": {
    "ExecuteTime": {
     "end_time": "2018-12-12T17:50:42.165407Z",
     "start_time": "2018-12-12T17:50:42.146221Z"
    }
   },
   "outputs": [
    {
     "data": {
      "text/plain": [
       "-0.1863999999999999"
      ]
     },
     "execution_count": 142,
     "metadata": {},
     "output_type": "execute_result"
    }
   ],
   "source": [
    "2.4969-2.6833"
   ]
  },
  {
   "cell_type": "code",
   "execution_count": null,
   "metadata": {},
   "outputs": [],
   "source": []
  },
  {
   "cell_type": "code",
   "execution_count": null,
   "metadata": {},
   "outputs": [],
   "source": []
  },
  {
   "cell_type": "code",
   "execution_count": null,
   "metadata": {},
   "outputs": [],
   "source": []
  },
  {
   "cell_type": "code",
   "execution_count": null,
   "metadata": {},
   "outputs": [],
   "source": []
  },
  {
   "cell_type": "code",
   "execution_count": null,
   "metadata": {},
   "outputs": [],
   "source": []
  },
  {
   "cell_type": "code",
   "execution_count": null,
   "metadata": {},
   "outputs": [],
   "source": []
  },
  {
   "cell_type": "code",
   "execution_count": null,
   "metadata": {},
   "outputs": [],
   "source": []
  },
  {
   "cell_type": "code",
   "execution_count": null,
   "metadata": {},
   "outputs": [],
   "source": []
  },
  {
   "cell_type": "code",
   "execution_count": null,
   "metadata": {},
   "outputs": [],
   "source": []
  },
  {
   "cell_type": "code",
   "execution_count": null,
   "metadata": {},
   "outputs": [],
   "source": []
  },
  {
   "cell_type": "code",
   "execution_count": null,
   "metadata": {},
   "outputs": [],
   "source": []
  },
  {
   "cell_type": "code",
   "execution_count": null,
   "metadata": {},
   "outputs": [],
   "source": []
  },
  {
   "cell_type": "code",
   "execution_count": null,
   "metadata": {},
   "outputs": [],
   "source": []
  },
  {
   "cell_type": "code",
   "execution_count": null,
   "metadata": {},
   "outputs": [],
   "source": []
  },
  {
   "cell_type": "code",
   "execution_count": null,
   "metadata": {},
   "outputs": [],
   "source": []
  },
  {
   "cell_type": "code",
   "execution_count": 144,
   "metadata": {
    "ExecuteTime": {
     "end_time": "2018-12-12T23:52:27.188699Z",
     "start_time": "2018-12-12T23:52:27.138680Z"
    }
   },
   "outputs": [
    {
     "data": {
      "text/plain": [
       "3.4285714285714284"
      ]
     },
     "execution_count": 144,
     "metadata": {},
     "output_type": "execute_result"
    }
   ],
   "source": [
    "36/10.5"
   ]
  },
  {
   "cell_type": "code",
   "execution_count": null,
   "metadata": {},
   "outputs": [],
   "source": []
  },
  {
   "cell_type": "code",
   "execution_count": null,
   "metadata": {},
   "outputs": [],
   "source": []
  },
  {
   "cell_type": "code",
   "execution_count": null,
   "metadata": {},
   "outputs": [],
   "source": []
  }
 ],
 "metadata": {
  "hide_input": false,
  "kernelspec": {
   "display_name": "Python 3",
   "language": "python",
   "name": "python3"
  },
  "language_info": {
   "codemirror_mode": {
    "name": "ipython",
    "version": 3
   },
   "file_extension": ".py",
   "mimetype": "text/x-python",
   "name": "python",
   "nbconvert_exporter": "python",
   "pygments_lexer": "ipython3",
   "version": "3.6.6"
  }
 },
 "nbformat": 4,
 "nbformat_minor": 2
}
